{
 "cells": [
  {
   "cell_type": "markdown",
   "metadata": {
    "id": "q6nZVIAqWwKd"
   },
   "source": [
    "#**DATASET LOADING**"
   ]
  },
  {
   "cell_type": "code",
   "execution_count": 27,
   "metadata": {
    "colab": {
     "base_uri": "https://localhost:8080/"
    },
    "executionInfo": {
     "elapsed": 12468,
     "status": "ok",
     "timestamp": 1756026508101,
     "user": {
      "displayName": "Kumar Nalin",
      "userId": "11975394964185781655"
     },
     "user_tz": -330
    },
    "id": "J-Dm68W7QiaT",
    "outputId": "64903d82-7fa4-45a0-80d1-c45aaf17edec"
   },
   "outputs": [
    {
     "name": "stdout",
     "output_type": "stream",
     "text": [
      "Path to dataset files: /kaggle/input/spotify-dataset-1921-2020-160k-tracks\n"
     ]
    }
   ],
   "source": [
    "import kagglehub\n",
    "\n",
    "path = kagglehub.dataset_download(\"yamaerenay/spotify-dataset-1921-2020-160k-tracks\")\n",
    "\n",
    "print(\"Path to dataset files:\", path)"
   ]
  },
  {
   "cell_type": "code",
   "execution_count": 28,
   "metadata": {
    "executionInfo": {
     "elapsed": 11,
     "status": "ok",
     "timestamp": 1756026508101,
     "user": {
      "displayName": "Kumar Nalin",
      "userId": "11975394964185781655"
     },
     "user_tz": -330
    },
    "id": "XVG9Z5cqRK7s"
   },
   "outputs": [],
   "source": [
    "import pandas as pd\n",
    "import numpy as np"
   ]
  },
  {
   "cell_type": "code",
   "execution_count": 29,
   "metadata": {
    "colab": {
     "base_uri": "https://localhost:8080/"
    },
    "executionInfo": {
     "elapsed": 10,
     "status": "ok",
     "timestamp": 1756026508101,
     "user": {
      "displayName": "Kumar Nalin",
      "userId": "11975394964185781655"
     },
     "user_tz": -330
    },
    "id": "GVHESkZDQ6xG",
    "outputId": "b619371f-ada7-40da-99c9-2495471f6edf"
   },
   "outputs": [
    {
     "name": "stdout",
     "output_type": "stream",
     "text": [
      "<class 'pandas.core.frame.DataFrame'>\n",
      "RangeIndex: 170653 entries, 0 to 170652\n",
      "Data columns (total 19 columns):\n",
      " #   Column            Non-Null Count   Dtype  \n",
      "---  ------            --------------   -----  \n",
      " 0   valence           170653 non-null  float64\n",
      " 1   year              170653 non-null  int64  \n",
      " 2   acousticness      170653 non-null  float64\n",
      " 3   artists           170653 non-null  object \n",
      " 4   danceability      170653 non-null  float64\n",
      " 5   duration_ms       170653 non-null  int64  \n",
      " 6   energy            170653 non-null  float64\n",
      " 7   explicit          170653 non-null  int64  \n",
      " 8   id                170653 non-null  object \n",
      " 9   instrumentalness  170653 non-null  float64\n",
      " 10  key               170653 non-null  int64  \n",
      " 11  liveness          170653 non-null  float64\n",
      " 12  loudness          170653 non-null  float64\n",
      " 13  mode              170653 non-null  int64  \n",
      " 14  name              170653 non-null  object \n",
      " 15  popularity        170653 non-null  int64  \n",
      " 16  release_date      170653 non-null  object \n",
      " 17  speechiness       170653 non-null  float64\n",
      " 18  tempo             170653 non-null  float64\n",
      "dtypes: float64(9), int64(6), object(4)\n",
      "memory usage: 24.7+ MB\n"
     ]
    }
   ],
   "source": [
    "df =pd.read_csv(\"/kaggle/input/spotify-dataset-1921-2020-160k-tracks/data.csv\")\n",
    "df.info()"
   ]
  },
  {
   "cell_type": "markdown",
   "metadata": {
    "id": "avcwOb5PXGvk"
   },
   "source": [
    "#**DATA PREPROCESSING**"
   ]
  },
  {
   "cell_type": "code",
   "execution_count": 1,
   "metadata": {
    "executionInfo": {
     "elapsed": 10,
     "status": "ok",
     "timestamp": 1756027230146,
     "user": {
      "displayName": "Kumar Nalin",
      "userId": "11975394964185781655"
     },
     "user_tz": -330
    },
    "id": "K--LMa0bV8aN"
   },
   "outputs": [],
   "source": [
    "feature_cols = [\n",
    "    \"valence\", \"acousticness\", \"danceability\", \"energy\",\n",
    "    \"instrumentalness\", \"liveness\", \"loudness\", \"speechiness\", \"tempo\"\n",
    "]"
   ]
  },
  {
   "cell_type": "code",
   "execution_count": 2,
   "metadata": {
    "colab": {
     "base_uri": "https://localhost:8080/",
     "height": 141
    },
    "executionInfo": {
     "elapsed": 9,
     "status": "error",
     "timestamp": 1756027230146,
     "user": {
      "displayName": "Kumar Nalin",
      "userId": "11975394964185781655"
     },
     "user_tz": -330
    },
    "id": "a1IxWkl3XOta",
    "outputId": "e1bca3c3-c850-4888-d8ca-8c773d64bd53"
   },
   "outputs": [
    {
     "ename": "NameError",
     "evalue": "name 'df' is not defined",
     "output_type": "error",
     "traceback": [
      "\u001b[0;31m---------------------------------------------------------------------------\u001b[0m",
      "\u001b[0;31mNameError\u001b[0m                                 Traceback (most recent call last)",
      "\u001b[0;32m/tmp/ipython-input-1598017166.py\u001b[0m in \u001b[0;36m<cell line: 0>\u001b[0;34m()\u001b[0m\n\u001b[0;32m----> 1\u001b[0;31m \u001b[0mdf\u001b[0m \u001b[0;34m=\u001b[0m \u001b[0mdf\u001b[0m\u001b[0;34m.\u001b[0m\u001b[0mdrop_duplicates\u001b[0m\u001b[0;34m(\u001b[0m\u001b[0msubset\u001b[0m\u001b[0;34m=\u001b[0m\u001b[0;34m[\u001b[0m\u001b[0;34m\"id\"\u001b[0m\u001b[0;34m]\u001b[0m\u001b[0;34m)\u001b[0m\u001b[0;34m.\u001b[0m\u001b[0mreset_index\u001b[0m\u001b[0;34m(\u001b[0m\u001b[0mdrop\u001b[0m\u001b[0;34m=\u001b[0m\u001b[0;32mTrue\u001b[0m\u001b[0;34m)\u001b[0m\u001b[0;34m\u001b[0m\u001b[0;34m\u001b[0m\u001b[0m\n\u001b[0m",
      "\u001b[0;31mNameError\u001b[0m: name 'df' is not defined"
     ]
    }
   ],
   "source": [
    "df = df.drop_duplicates(subset=[\"id\"]).reset_index(drop=True)"
   ]
  },
  {
   "cell_type": "code",
   "execution_count": null,
   "metadata": {
    "executionInfo": {
     "elapsed": 8,
     "status": "aborted",
     "timestamp": 1756027230146,
     "user": {
      "displayName": "Kumar Nalin",
      "userId": "11975394964185781655"
     },
     "user_tz": -330
    },
    "id": "hlTaMqBBXVOO"
   },
   "outputs": [],
   "source": [
    "df = df.dropna(subset=feature_cols).reset_index(drop=True)"
   ]
  },
  {
   "cell_type": "code",
   "execution_count": null,
   "metadata": {
    "executionInfo": {
     "elapsed": 8,
     "status": "aborted",
     "timestamp": 1756027230146,
     "user": {
      "displayName": "Kumar Nalin",
      "userId": "11975394964185781655"
     },
     "user_tz": -330
    },
    "id": "dAtyzMQ2Xfzd"
   },
   "outputs": [],
   "source": [
    "from sklearn.preprocessing import StandardScaler"
   ]
  },
  {
   "cell_type": "code",
   "execution_count": null,
   "metadata": {
    "executionInfo": {
     "elapsed": 8,
     "status": "aborted",
     "timestamp": 1756027230147,
     "user": {
      "displayName": "Kumar Nalin",
      "userId": "11975394964185781655"
     },
     "user_tz": -330
    },
    "id": "FKs0N5TMXXfU"
   },
   "outputs": [],
   "source": [
    "scaler = StandardScaler()\n",
    "X_songs = scaler.fit_transform(df[feature_cols])\n",
    "\n",
    "\n",
    "songs_df = df[[\"id\", \"name\", \"artists\", \"year\"]].copy()\n",
    "\n",
    "print(\"Shape of features:\", X_songs.shape)\n",
    "print(\"Shape of song catalog:\", songs_df.shape)\n",
    "\n",
    "print(songs_df.head(3))"
   ]
  },
  {
   "cell_type": "code",
   "execution_count": null,
   "metadata": {
    "executionInfo": {
     "elapsed": 8,
     "status": "aborted",
     "timestamp": 1756027230147,
     "user": {
      "displayName": "Kumar Nalin",
      "userId": "11975394964185781655"
     },
     "user_tz": -330
    },
    "id": "8W56vUuRlwOo"
   },
   "outputs": [],
   "source": [
    "songs_df = df[[\"id\", \"name\", \"artists\", \"year\", \"popularity\",\n",
    "               \"duration_ms\", \"explicit\", \"key\", \"mode\"]].copy()\n",
    "\n",
    "print(songs_df.head(3))\n",
    "print(\"Catalog shape after enrichment:\", songs_df.shape)\n",
    "songs_df.info()\n"
   ]
  },
  {
   "cell_type": "code",
   "execution_count": null,
   "metadata": {
    "executionInfo": {
     "elapsed": 8,
     "status": "aborted",
     "timestamp": 1756027230147,
     "user": {
      "displayName": "Kumar Nalin",
      "userId": "11975394964185781655"
     },
     "user_tz": -330
    },
    "id": "DClw7XmLX35R"
   },
   "outputs": [],
   "source": [
    "!pip install -q sentence-transformers\n",
    "\n",
    "from sentence_transformers import SentenceTransformer\n",
    "import numpy as np\n",
    "\n",
    "text_model = SentenceTransformer(\"paraphrase-MiniLM-L6-v2\")\n",
    "\n",
    "def get_text_embedding(text: str):\n",
    "    emb = text_model.encode(text, normalize_embeddings=True)\n",
    "    return emb\n",
    "\n",
    "user_text = \"calm and reflective\"\n",
    "e_text = get_text_embedding(user_text)\n",
    "\n",
    "print(\"Embedding shape:\", e_text.shape)\n",
    "print(\"First 5 dims:\", e_text[:5])"
   ]
  },
  {
   "cell_type": "code",
   "execution_count": null,
   "metadata": {
    "executionInfo": {
     "elapsed": 8,
     "status": "aborted",
     "timestamp": 1756027230147,
     "user": {
      "displayName": "Kumar Nalin",
      "userId": "11975394964185781655"
     },
     "user_tz": -330
    },
    "id": "3bwY-ESUYZm2"
   },
   "outputs": [],
   "source": [
    "!pip install -q transformers ftfy regex tqdm\n",
    "!pip install -q git+https://github.com/openai/CLIP.git\n",
    "\n",
    "import torch\n",
    "import clip\n",
    "from PIL import Image\n",
    "\n",
    "device = \"cuda\" if torch.cuda.is_available() else \"cpu\"\n",
    "clip_model, preprocess = clip.load(\"ViT-B/32\", device=device)\n",
    "\n",
    "def get_image_embedding(image_path: str):\n",
    "    image = preprocess(Image.open(image_path)).unsqueeze(0).to(device)\n",
    "    with torch.no_grad():\n",
    "        emb = clip_model.encode_image(image)\n",
    "    emb = emb / emb.norm(dim=-1, keepdim=True)  # normalize\n",
    "    return emb.cpu().numpy().flatten()\n",
    "\n",
    "# from google.colab import files\n",
    "# uploaded = files.upload()\n",
    "# e_img = get_image_embedding(list(uploaded.keys())[0])\n"
   ]
  },
  {
   "cell_type": "code",
   "execution_count": null,
   "metadata": {
    "executionInfo": {
     "elapsed": 8,
     "status": "aborted",
     "timestamp": 1756027230147,
     "user": {
      "displayName": "Kumar Nalin",
      "userId": "11975394964185781655"
     },
     "user_tz": -330
    },
    "id": "0ERBPyQ0ZI90"
   },
   "outputs": [],
   "source": [
    "from sklearn.linear_model import Ridge\n",
    "from sklearn.model_selection import train_test_split\n",
    "from tqdm import tqdm\n",
    "\n",
    "\n",
    "texts = (df[\"name\"] + \" by \" + df[\"artists\"]).tolist()\n",
    "\n",
    "text_embeddings = np.vstack([get_text_embedding(t) for t in tqdm(texts, desc=\"Processing text embeddings\")])\n",
    "\n",
    "print(\"Shape of text embeddings:\", text_embeddings.shape)\n",
    "print(\"Shape of audio features:\", X_songs.shape)"
   ]
  },
  {
   "cell_type": "code",
   "execution_count": null,
   "metadata": {
    "executionInfo": {
     "elapsed": 8,
     "status": "aborted",
     "timestamp": 1756027230147,
     "user": {
      "displayName": "Kumar Nalin",
      "userId": "11975394964185781655"
     },
     "user_tz": -330
    },
    "id": "NNot0vxMtAg_"
   },
   "outputs": [],
   "source": [
    "X_train, X_test, Y_train, Y_test = train_test_split(\n",
    "    text_embeddings, X_songs, test_size=0.2, random_state=42\n",
    ")"
   ]
  },
  {
   "cell_type": "code",
   "execution_count": null,
   "metadata": {
    "executionInfo": {
     "elapsed": 8,
     "status": "aborted",
     "timestamp": 1756027230147,
     "user": {
      "displayName": "Kumar Nalin",
      "userId": "11975394964185781655"
     },
     "user_tz": -330
    },
    "id": "mUJDE7L-tz7p"
   },
   "outputs": [],
   "source": [
    "ridge = Ridge(alpha=1.0)\n",
    "ridge.fit(X_train, Y_train)\n",
    "\n",
    "print(\"Training complete.\")\n"
   ]
  },
  {
   "cell_type": "code",
   "execution_count": null,
   "metadata": {
    "executionInfo": {
     "elapsed": 8,
     "status": "aborted",
     "timestamp": 1756027230147,
     "user": {
      "displayName": "Kumar Nalin",
      "userId": "11975394964185781655"
     },
     "user_tz": -330
    },
    "id": "soGMQgJMtEmm"
   },
   "outputs": [],
   "source": [
    "from sklearn.metrics import mean_squared_error\n",
    "\n",
    "Y_pred = ridge.predict(X_test)\n",
    "mse = mean_squared_error(Y_test, Y_pred)\n",
    "print(\"Test MSE:\", mse)"
   ]
  },
  {
   "cell_type": "code",
   "execution_count": null,
   "metadata": {
    "id": "RLRZb4oK0Wfo"
   },
   "outputs": [],
   "source": [
    "\n",
    "from sklearn.metrics.pairwise import cosine_similarity\n",
    "import numpy as np\n",
    "\n",
    "def recommend_from_text(user_text, top_k=10):\n",
    "    e_text = get_text_embedding(user_text).reshape(1, -1)\n",
    "\n",
    "    vibe_vector = ridge.predict(e_text)  # shape (1, 9)\n",
    "\n",
    "    sims = cosine_similarity(vibe_vector, X_songs)[0]  # flatten\n",
    "\n",
    "    top_idx = np.argsort(sims)[::-1][:top_k]\n",
    "\n",
    "    results = songs_df.iloc[top_idx].copy()\n",
    "    results[\"similarity\"] = sims[top_idx]\n",
    "\n",
    "    return results.reset_index(drop=True)\n",
    "\n",
    "user_query = \"calm and reflective\"\n",
    "recommendations = recommend_from_text(user_query, top_k=5)\n",
    "print(recommendations)"
   ]
  }
 ],
 "metadata": {
  "accelerator": "TPU",
  "colab": {
   "authorship_tag": "ABX9TyOE7EwIceeBxjY72e9pMO75",
   "gpuType": "V28",
   "provenance": []
  },
  "kernelspec": {
   "display_name": "Python 3",
   "name": "python3"
  },
  "language_info": {
   "name": "python"
  }
 },
 "nbformat": 4,
 "nbformat_minor": 0
}
